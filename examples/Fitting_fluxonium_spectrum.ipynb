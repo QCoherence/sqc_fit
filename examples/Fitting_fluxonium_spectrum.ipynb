{
 "cells": [
  {
   "cell_type": "markdown",
   "id": "360d26ce-eb26-4f1a-8c7b-85f7a63f2c67",
   "metadata": {},
   "source": [
    "# Imports"
   ]
  },
  {
   "cell_type": "code",
   "execution_count": 1,
   "id": "cc43ec59-5549-4aa0-871e-fd8886111ae8",
   "metadata": {},
   "outputs": [],
   "source": [
    "import os\n",
    "\n",
    "NUM_THREADS = \"1\"\n",
    "\n",
    "os.environ[\"OMP_NUM_THREADS\"] = NUM_THREADS\n",
    "os.environ[\"OPENBLAS_NUM_THREADS\"] = NUM_THREADS\n",
    "os.environ[\"MKL_NUM_THREADS\"] = NUM_THREADS\n",
    "os.environ[\"VECLIB_MAXIMUM_THREADS\"] = NUM_THREADS\n",
    "os.environ[\"NUMEXPR_NUM_THREADS\"] = NUM_THREADS"
   ]
  },
  {
   "cell_type": "code",
   "execution_count": 2,
   "id": "166cf6d2-2615-449f-ad89-0dd20395cb4e",
   "metadata": {
    "tags": []
   },
   "outputs": [],
   "source": [
    "import numpy as np\n",
    "from datetime import datetime\n",
    "import time\n",
    "import matplotlib.pyplot as plt\n",
    "\n",
    "from time import sleep\n",
    "import json\n",
    "import os\n",
    "import sys\n",
    "\n",
    "import matplotlib.pyplot as plt\n",
    "from scipy import signal, optimize\n",
    "import matplotlib.image as mpimg\n",
    "from labellines import *\n",
    "\n",
    "\n",
    "%matplotlib qt\n",
    "\n",
    "\n",
    "from tqdm import tqdm\n",
    "from scipy.optimize import minimize\n",
    "\n",
    "from scqubits import *\n",
    "import scqubits\n",
    "scqubits.settings.NUM_CPUS = 4\n",
    "scqubits.settings.OVERLAP_THRESHOLD  = 0.0 #  In order to look for the indices"
   ]
  },
  {
   "cell_type": "markdown",
   "id": "a55c2d58-a374-47cc-870b-5def1b162e95",
   "metadata": {},
   "source": [
    "# Useful functions"
   ]
  },
  {
   "cell_type": "code",
   "execution_count": 65,
   "id": "cc74e3ea-410c-4bb0-8cc7-b6489b004897",
   "metadata": {
    "tags": []
   },
   "outputs": [],
   "source": [
    "def plot_extracted_points(figure, extracted_points):\n",
    "    ax = fig.axes[0]\n",
    "    flux_values = list(extracted_points.keys())\n",
    "    for f in flux_values:\n",
    "        list_transitions = list(extracted_points[f].keys())\n",
    "        for t in list_transitions:\n",
    "            ax.plot(f, extracted_points[f][t], marker='x', markersize=8, color=\"red\")\n",
    "    fig.canvas.draw_idle()\n",
    "\n",
    "def remove_lines(figure):\n",
    "    ax = fig.axes[0]\n",
    "    try:\n",
    "        ax.get_legend().remove()\n",
    "    except:\n",
    "        pass\n",
    "    for i,l in enumerate(ax.lines):\n",
    "        l.remove()\n",
    "    fig.canvas.draw_idle()\n",
    "\n",
    "def remove_label_lines(figure):\n",
    "    ax = fig.axes[0]\n",
    "    try:\n",
    "        ax.get_label().remove()\n",
    "    except:\n",
    "        pass\n",
    "    for i,l in enumerate(ax.lines):\n",
    "        l.remove()\n",
    "    fig.canvas.draw_idle()\n",
    "    \n",
    "# def plot_theory_lines(fig, parameters, transitions=[\"01\",\"02\",\"03\",\"04\",\"05\",\"06\",\"12\",\"13\",\"14\",\"15\",\"16\",\"23\",\"24\",\"25\",\"26\",\"34\",\"35\",\"36\",\"45\",\"46\",], **kwargs):\n",
    "def plot_theory_lines(fig, parameters, transitions=[\"03\",\"05\",\"13\",\"23\"], **kwargs):\n",
    "    ### Get parameters from kwargs\n",
    "    if 'flux_values' in kwargs:\n",
    "        flux_values = kwargs.get('flux_values')\n",
    "    else:\n",
    "        flux_values = np.linspace(-1.0, 1.0, 101)\n",
    "        \n",
    "    if 'cutoff' in kwargs:\n",
    "        cutoff = kwargs.get('cutoff')\n",
    "    else:\n",
    "        cutoff = 110\n",
    "        \n",
    "    ### calculate the lines\n",
    "    lines_toplot = {}\n",
    "    for t in transitions:\n",
    "        lines_toplot[t] = []\n",
    "    for f in flux_values:\n",
    "        fluxonium = Fluxonium(EJ=parameters['Ej']/1e9, EC=parameters['Ec']/1e9, EL=parameters['El']/1e9, flux=f, cutoff=cutoff,)\n",
    "        osc = Oscillator(3.6, truncated_dim = 21)\n",
    "        # osc = Oscillator(2.993, truncated_dim = 21)\n",
    "        hilbertspace = HilbertSpace([fluxonium, osc])\n",
    "        g1 = parameters['g']/1e9  # coupling resonator-tmon1 (without charge matrix elements)\n",
    "        operator1 = fluxonium.n_operator\n",
    "        operator2 = osc.annihilation_operator\n",
    "        hilbertspace.add_interaction(\n",
    "        g_strength=g1,\n",
    "        op1=(operator1, fluxonium),\n",
    "        op2=(operator2, osc),\n",
    "        add_hc = True\n",
    "        )\n",
    " \n",
    "        dressed_hamiltonian = hilbertspace.hamiltonian()\n",
    "        hilbertspace.generate_lookup()\n",
    "\n",
    "        eigenenergies = dressed_hamiltonian.eigenenergies(0)\n",
    "        for t in transitions:\n",
    "            #lines_toplot[t].append(1e9*np.array([eigenenergies[int(t[1])] - eigenenergies[int(t[0])] for t in transitions]))\n",
    "            lines_toplot[t].append(1e9*np.array([eigenenergies[int(t[1])] - eigenenergies[int(t[0])]]))\n",
    "    \n",
    "    ### Plotting the lines\n",
    "    ax = fig.axes[0]\n",
    "    xlim = ax.get_xlim()\n",
    "    ylim = ax.get_ylim()\n",
    "    \n",
    "    current = phiext_to_current(flux_values, parameters)\n",
    "    for t in transitions:\n",
    "        ax.plot(current, lines_toplot[t], label=t)\n",
    "        # first_part = str(hilbertspace.bare_index(int(t[0])))\n",
    "        # second_part = str(hilbertspace.bare_index(int(t[1])))\n",
    "        # transition_str = first_part + \"->\" + second_part\n",
    "        # ax.plot(current, lines_toplot[t], label=transition_str)\n",
    "\n",
    "    \n",
    "\n",
    "    ax.set_xlim(xlim)\n",
    "    ax.set_ylim(ylim)\n",
    "    # labelLines(plt.gca().get_lines(), align=True, backgroundcolor=\"none\",fontsize=6)\n",
    "    ax.legend(loc='upper right')\n",
    "    ax.set_title('Ej = {:.2f} GHz, Ec = {:.3f} GHz, El = {:.3f} GHz, g = {:.3f} GHz'.format(parameters['Ej']/1e9, parameters['Ec']/1e9, parameters['El']/1e9, parameters['g']/1e9))\n",
    "    fig.canvas.draw_idle()"
   ]
  },
  {
   "cell_type": "code",
   "execution_count": 4,
   "id": "f2c18b76-57cd-43dc-aebf-9cc055010edd",
   "metadata": {},
   "outputs": [],
   "source": [
    "# def plot_theory_energies(fig, parameters, levels=[\"0\",\"1\",\"2\",\"3\",\"4\",\"5\",], **kwargs):\n",
    "#     ### Get parameters from kwargs\n",
    "#     if 'flux_values' in kwargs:\n",
    "#         flux_values = kwargs.get('flux_values')\n",
    "#     else:\n",
    "#         flux_values = np.linspace(-1.0, 1.0, 101)\n",
    "        \n",
    "#     if 'cutoff' in kwargs:\n",
    "#         cutoff = kwargs.get('cutoff')\n",
    "#     else:\n",
    "#         cutoff = 110\n",
    "        \n",
    "#     ### calculate the lines\n",
    "#     energies_toplot = {}\n",
    "#     for l in levels:\n",
    "#         energies_toplot[l] = []\n",
    "#     for f in flux_values:\n",
    "#         fluxonium = Fluxonium(EJ=parameters['Ej']/1e9, EC=parameters['Ec']/1e9, EL=parameters['El']/1e9, flux=f, cutoff=cutoff,)\n",
    "#         osc = Oscillator(3.85, truncated_dim = 21)\n",
    "#         hilbertspace = HilbertSpace([fluxonium, osc])\n",
    "#         g1 = parameters['g']/1e9  # coupling resonator-tmon1 (without charge matrix elements)\n",
    "#         operator1 = fluxonium.n_operator()\n",
    "#         operator2 = osc.creation_operator() + osc.annihilation_operator()\n",
    "#         hilbertspace.add_interaction(\n",
    "#         g=g1,\n",
    "#         op1=(operator1, fluxonium),\n",
    "#         op2=(operator2, osc)\n",
    "#         )\n",
    "#         dressed_hamiltonian = hilbertspace.hamiltonian()\n",
    "#         # Edn.append(dressed_hamiltonian.eigenenergies(0)[:6])\n",
    "#         # eigenenergies = fluxonium.diago()[0]\n",
    "#         # eigenenergies = fluxonium.eigenvals()\n",
    "#         eigenenergies = dressed_hamiltonian.eigenenergies(0)\n",
    "#         for l in levels:\n",
    "#             energies_toplot[l].append(1e9*np.array(eigenenergies[int(l)] ))\n",
    "    \n",
    "#     ### Plotting the lines\n",
    "#     ax = fig.axes[0]\n",
    "#     xlim = ax.get_xlim()\n",
    "#     ylim = ax.get_ylim()\n",
    "    \n",
    "#     current = phiext_to_current(flux_values, parameters)\n",
    "#     for l in levels:\n",
    "#         ax.plot(current, energies_toplot[t], label = l)\n",
    "#         # ax.plot(flux_values, np.array(lines_toplot[t])/1e9, label=t)\n",
    "#     ax.set_xlim(xlim)\n",
    "#     ax.set_ylim(ylim)\n",
    "#     ax.legend(loc='upper right')\n",
    "#     ax.set_title('Ej = {:.2f} GHz, Ec = {:.2f} GHz, El = {:.2f} GHz, g = {:.2f} MHz'.format(parameters['Ej']/1e9, parameters['Ec']/1e9, parameters['El']/1e9, parameters['g']/1e6))\n",
    "#     fig.canvas.draw_idle()"
   ]
  },
  {
   "cell_type": "code",
   "execution_count": 5,
   "id": "bdfd880b-7fde-48c3-af91-0d4466ef5453",
   "metadata": {
    "tags": []
   },
   "outputs": [],
   "source": [
    "def current_to_phiext(current_value, parameters):\n",
    "    # return (current_value - parameters['current_integer_flux'])/(parameters['Amp_per_phi0'])\n",
    "    return (current_value - current_integer_flux) / Amp_per_phi0\n",
    "\n",
    "def phiext_to_current(phiext, parameters):\n",
    "    # return phiext * parameters['Amp_per_phi0'] + parameters['current_integer_flux']\n",
    "    return phiext * Amp_per_phi0 + current_integer_flux\n",
    "\n",
    "def from_parameter_array_to_parameter_dict(parameter_array):\n",
    "    # keys_list = ['Ej', 'Ec', 'El', 'Amp_per_phi0', 'current_integer_flux', 'g']\n",
    "    keys_list = ['Ej', 'Ec', 'El', 'g']\n",
    "    parameters = {k:parameter_array[i] for i,k in enumerate(keys_list)}\n",
    "    return parameters\n",
    "\n",
    "def cost_function(parameters, extracted_points, model, cost_type='absolute', **kwargs):    \n",
    "    cost = 0\n",
    "    current_values = list(extracted_points.keys())\n",
    "    for c in current_values:\n",
    "        transitions = list(extracted_points[c].keys())\n",
    "        data = np.array([extracted_points[c][t] for t in transitions])\n",
    "        fit = model(c, parameters, transitions, **kwargs)*1e9\n",
    "        if cost_type=='absolute':\n",
    "            cost += np.sum(np.abs(data - fit))/1e9\n",
    "        elif ost_type=='relative':\n",
    "            cost += np.sum(np.abs(data - fit))/data\n",
    "    return cost\n",
    "\n",
    "def model(current, parameters, transitions, **kwargs):\n",
    "    if 'cutoff' in kwargs:\n",
    "        cutoff = kwargs.get('cutoff')\n",
    "    else:\n",
    "        cutoff = 110\n",
    "    # fluxonium = Fluxonium(EJ=parameters['Ej']/1e9, EC=parameters['Ec']/1e9, EL=parameters['El']/1e9, flux=current_to_phiext(current, parameters), cutoff=cutoff,)\n",
    "    # eigenenergies = fluxonium.eigenvals()\n",
    "    # eigenenergies = fluxonium.diago()[0]\n",
    "    fluxonium = Fluxonium(EJ=parameters['Ej']/1e9, EC=parameters['Ec']/1e9, EL=parameters['El']/1e9, flux=current_to_phiext(current, parameters), cutoff=cutoff,)\n",
    "    osc = Oscillator(3.6, truncated_dim = 21)\n",
    "    # osc = Oscillator(2.993, truncated_dim = 21)\n",
    "    hilbertspace = HilbertSpace([fluxonium, osc])\n",
    "    g1 = parameters['g']/1e9  # coupling resonator-tmon1 (without charge matrix elements)\n",
    "    operator1 = fluxonium.n_operator()\n",
    "    operator2 = osc.creation_operator() + osc.annihilation_operator()\n",
    "    hilbertspace.add_interaction(\n",
    "    g=g1,\n",
    "    op1=(operator1, fluxonium),\n",
    "    op2=(operator2, osc)\n",
    "    )\n",
    "    dressed_hamiltonian = hilbertspace.hamiltonian()\n",
    "    eigenenergies = dressed_hamiltonian.eigenenergies(0)\n",
    "    return np.array([eigenenergies[int(t[1])] - eigenenergies[int(t[0])] for t in transitions])\n",
    "\n",
    "def rescale_parameter_array(parameters_list):\n",
    "    # return np.array(parameters_list*np.array([1e-9, 1e-9, 1e-9, 1e6, 1e6, 1e-9]))\n",
    "    return np.array(parameters_list*np.array([1e-9, 1e-9, 1e-9, 1e-9]))\n",
    "\n",
    "def unrescale_parameter_array(parameters_list):\n",
    "    # return np.array(parameters_list*np.array([1e9, 1e9, 1e9, 1e-6, 1e-6, 1e9]))\n",
    "    return np.array(parameters_list*np.array([1e9, 1e9, 1e9, 1e9]))"
   ]
  },
  {
   "cell_type": "markdown",
   "id": "04decae5-5e3b-4032-99f7-369b4aa8a739",
   "metadata": {},
   "source": [
    "# Imports the data"
   ]
  },
  {
   "cell_type": "markdown",
   "id": "4efeb243-fb0d-4186-aede-d0fa40de4524",
   "metadata": {},
   "source": [
    "Note you need to import and reshape the data. This section needs to be adapted based on how and with what instrument the data acquisition was made."
   ]
  },
  {
   "cell_type": "code",
   "execution_count": 6,
   "id": "7ae3a608-cbeb-40a1-a6db-038eb784408e",
   "metadata": {
    "tags": []
   },
   "outputs": [],
   "source": [
    "from labmate.acquisition_notebook import AcquisitionAnalysisManager\n",
    "path_database = r'S:\\__ExperimentalData\\Ouroboros\\Data\\Labmate'\n",
    "aqm = AcquisitionAnalysisManager(path_database)"
   ]
  },
  {
   "cell_type": "code",
   "execution_count": 7,
   "id": "9b72ff18-c188-4239-a490-327196e91f39",
   "metadata": {},
   "outputs": [],
   "source": [
    "data1 = aqm.load_file(r\"S:\\__ExperimentalData\\Ouroboros\\Data\\Labmate\\Two tones with ext. microwave src\\2024_03_11__19_58_37__Two tones with ext. microwave src.h5\")   # Full spectra\n",
    "# exec(data1.configs['configuration.py'])\n",
    "\n",
    "data2 = aqm.load_file(r\"S:\\__ExperimentalData\\Ouroboros\\Data\\Labmate\\Two tones with ext. microwave src\\2024_03_14__10_56_45__Two tones with ext. microwave src.h5\")     # Bigger scan on 3 GHz\n",
    "# exec(data2.configs['configuration.py'])\n",
    "\n",
    "# data3 = aqm.load_file(r\"C:\\Pydata\\labmate\\Two tones with ext. microwave src\\2024_03_14__13_43_15__Two tones with ext. microwave src.h5\")   # more zoom on 3 GHz\n",
    "# exec(data3.configs['configuration.py'])\n",
    "\n",
    "# data3 = aqm.load_file(r\"C:\\Pydata\\labmate\\Two tones with ext. microwave src\\2024_03_14__20_56_50__Two tones with ext. microwave src.h5\")      # More zoom on 3GHz but pulsed one\n",
    "# exec(data3.configs['configuration.py'])\n",
    "\n",
    "\n",
    "data3 = aqm.load_file(r\"S:\\__ExperimentalData\\Ouroboros\\Data\\Labmate\\Two tones with ext. microwave src\\2024_03_15__17_16_51__Two tones with ext. microwave src.h5\")      # More zoom on 3GHz but pulsed one\n",
    "# exec(data3.configs['configuration.py'])\n",
    "\n",
    "data4 = aqm.load_file(r\"S:\\__ExperimentalData\\Ouroboros\\Data\\Labmate\\Two tones with ext. microwave src\\2024_03_15__00_35_05__Two tones with ext. microwave src.h5\")      # 2.3GHz but pulsed one\n",
    "# exec(data4.configs['configuration.py'])\n",
    "\n",
    "data5 = aqm.load_file(r\"S:\\__ExperimentalData\\Ouroboros\\Data\\Labmate\\Two tones with ext. microwave src\\2024_03_16__12_51_19__Two tones with ext. microwave src.h5\")      # More zoom on 3GHz (on half flux) but pulsed one\n",
    "# exec(data5.configs['configuration.py'])\n",
    "\n",
    "\n",
    "data6 = aqm.load_file(r\"S:\\__ExperimentalData\\Ouroboros\\Data\\Labmate\\Two tones with ext. microwave src\\2024_03_16__13_35_56__Two tones with ext. microwave src.h5\")    \n",
    "# exec(data6.configs['configuration.py'])\n",
    "\n",
    "\n",
    "data7 = aqm.load_file(r\"S:\\__ExperimentalData\\Ouroboros\\Data\\Labmate\\Two tones with ext. microwave src\\2024_03_17__11_59_53__Two tones with ext. microwave src.h5\")      \n",
    "# exec(data6.configs['configuration.py'])\n",
    "\n"
   ]
  },
  {
   "cell_type": "code",
   "execution_count": 8,
   "id": "1e8c32b1-479a-44f9-bda7-badd1c8d245f",
   "metadata": {},
   "outputs": [],
   "source": [
    "def process_data(data):\n",
    "    flux_list = data.flux\n",
    "    frequency = data.frequencies\n",
    "    I = data.I\n",
    "    Q = data.Q\n",
    "\n",
    "    flattened_I = I.flatten()\n",
    "    flattened_Q = Q.flatten()\n",
    "\n",
    "    # Convert results into Volts and normalize\n",
    "    S = (flattened_I + 1j * flattened_Q)\n",
    "    R = np.abs(S)  # Amplitude\n",
    "    R_reshaped = R.reshape((len(flux_list), -1))\n",
    "    mag = R.reshape((len(flux_list), -1))\n",
    "    phase = np.angle(S)  # Phase\n",
    "    phase_reshaped = phase.reshape((len(flux_list), -1))\n",
    "\n",
    "    # Normalize data\n",
    "    row_sums_R = R_reshaped.sum(axis=0)\n",
    "    R_reshaped /= row_sums_R[np.newaxis, :]\n",
    "    mag /= row_sums_R[np.newaxis, :]\n",
    "\n",
    "    row_sums_phase = phase_reshaped.sum(axis=0)\n",
    "    phase_reshaped /= row_sums_phase[np.newaxis, :]\n",
    "\n",
    "    return flux_list, frequency, R_reshaped, mag, phase_reshaped\n",
    "\n",
    "# Process data1\n",
    "flux_list1, frequency1, R_reshaped1, mag1, phase_reshaped1 = process_data(data1)\n",
    "\n",
    "# Process data2\n",
    "flux_list2, frequency2, R_reshaped2, mag2, phase_reshaped2 = process_data(data2)\n",
    "\n",
    "# Process data3\n",
    "flux_list3, frequency3, R_reshaped3, mag3, phase_reshaped3 = process_data(data3)\n",
    "\n",
    "# Process data4\n",
    "flux_list4, frequency4, R_reshaped4, mag4, phase_reshaped4 = process_data(data4)\n",
    "\n",
    "# Process data5\n",
    "flux_list5, frequency5, R_reshaped5, mag5, phase_reshaped5 = process_data(data5)\n",
    "\n",
    "# Process data6\n",
    "flux_list6, frequency6, R_reshaped6, mag6, phase_reshaped6 = process_data(data6)\n",
    "\n",
    "# Process data7\n",
    "flux_list7, frequency7, R_reshaped7, mag7, phase_reshaped7 = process_data(data7)"
   ]
  },
  {
   "cell_type": "markdown",
   "id": "6decc497-ba7e-4708-8a30-4de45ff1e479",
   "metadata": {},
   "source": [
    "# Plot the data"
   ]
  },
  {
   "cell_type": "markdown",
   "id": "3707a859-c0a2-4322-9757-dbb546cf3c61",
   "metadata": {},
   "source": [
    "## Magnitude"
   ]
  },
  {
   "cell_type": "code",
   "execution_count": 64,
   "id": "851e8420-d2d2-48eb-af99-321070ceaab9",
   "metadata": {},
   "outputs": [
    {
     "name": "stdout",
     "output_type": "stream",
     "text": [
      "1.1551086902618408\n"
     ]
    }
   ],
   "source": [
    "plt.close()\n",
    "fig = plt.figure(num = 1) # main dataset\n",
    "\n",
    "\n",
    "def rescale_data(data, rescale=True):\n",
    "    if rescale:\n",
    "        return np.array([m - np.mean(m) for m in data])\n",
    "    else:\n",
    "        return data\n",
    "\n",
    "# Assuming mag_normed, phase, mag1_normed, phase1, mag2_normed, phase2, mag3_normed, phase3 are defined\n",
    "\n",
    "# Rescale the data\n",
    "mag_rescaled1 = rescale_data(mag1)\n",
    "phase_rescaled1 = rescale_data(phase_reshaped1)\n",
    "mag_rescaled2 = rescale_data(mag2)\n",
    "phase_rescaled2 = rescale_data(phase_reshaped2)\n",
    "mag_rescaled3 = rescale_data(mag3)\n",
    "phase_rescaled3 = rescale_data(phase_reshaped3)\n",
    "mag_rescaled4 = rescale_data(mag4)\n",
    "phase_rescaled4 = rescale_data(phase_reshaped4)\n",
    "mag_rescaled5 = rescale_data(mag5)\n",
    "phase_rescaled5 = rescale_data(phase_reshaped5)\n",
    "mag_rescaled6 = rescale_data(mag6)\n",
    "phase_rescaled6 = rescale_data(phase_reshaped6)\n",
    "mag_rescaled7 = rescale_data(mag7)\n",
    "phase_rescaled7 = rescale_data(phase_reshaped7)\n",
    "    \n",
    "\n",
    "# plt.pcolormesh(current, freq, mag_rescaled.T, vmin=-0.5e-3, vmax = 0.4e-3)\n",
    "# plt.pcolormesh(decimated_flux_list, decimated_frequency, decimated_mag_rescaled.T, rasterized=True)\n",
    "\n",
    "start = time.time()\n",
    "\n",
    "# plt.pcolormesh(flux_list, frequency, mag_rescaled.T, rasterized=True)\n",
    "# plt.pcolormesh(flux_list, frequency, mag.T, rasterized=True)\n",
    "\n",
    "\n",
    "\n",
    "# Plot data using imshow\n",
    "\n",
    "def plot_mag(mag_rescaled, flux_list, frequency, alpha = 1.0, vmin=None, vmax=None):\n",
    "    # plt.figure()  # Create a new figure\n",
    "    # plt.imshow(mag_rescaled.T, aspect='auto', origin='lower',\n",
    "    #        extent=[flux_list.min(), flux_list.max(), frequency.min(), frequency.max()], rasterized=True)\n",
    "    plt.pcolormesh(flux_list, frequency, mag_rescaled.T, shading='auto', cmap='viridis', rasterized=True, vmin=vmin, vmax=vmax,)\n",
    "\n",
    "\n",
    "def plot_phase(phase_rescaled, flux_list, frequency, alpha = 1.0, vmin=None, vmax=None):\n",
    "    # plt.figure()  # Create a new figure\n",
    "    # plt.imshow(mag_rescaled.T, aspect='auto', origin='lower',\n",
    "    #        extent=[flux_list.min(), flux_list.max(), frequency.min(), frequency.max()], rasterized=True)\n",
    "    plt.pcolormesh(flux_list, frequency, phase_rescaled.T, shading='auto', cmap='viridis', rasterized=True, vmin=vmin, vmax=vmax,)\n",
    "\n",
    "    # plt.imshow(mag_rescaled.T, aspect='auto', origin='lower',\n",
    "    #        extent=[flux_list.min(), flux_list.max(), frequency.min(), frequency.max()], rasterized=True, vmin=-0.0005, vmax = 0.0005)\n",
    "\n",
    "# plot_mag(mag_rescaled1, flux_list1, frequency1, alpha = 0.5, vmin = -0.0005, vmax = 0.0005)\n",
    "# # plot_mag(mag_rescaled1, flux_list1, frequency1, alpha = 0.5)\n",
    "# plot_mag(mag_rescaled2, flux_list2, frequency2, alpha = 0.5)\n",
    "# plot_mag(mag_rescaled3, flux_list3, frequency3, alpha = 0.1)\n",
    "# plot_mag(mag_rescaled4, flux_list4, frequency4, alpha = 0.1)\n",
    "\n",
    "# plot_mag(phase_rescaled1, flux_list1, frequency1, alpha = 0.5, vmin = -0.0005, vmax = 0.0005)\n",
    "# plot_mag(phase_rescaled2, flux_list2, frequency2, alpha = 0.1)\n",
    "# plot_mag(phase_rescaled3, flux_list3, frequency3, alpha = 0.1)  # bit of vertical axis zoom\n",
    "# plot_mag(phase_rescaled4, flux_list4, frequency4, alpha = 0.1)   # 2GHz\n",
    "# plot_mag(phase_rescaled5, flux_list5, frequency5, alpha = 0.8)\n",
    "# plot_mag(phase_rescaled6, flux_list6, frequency6, alpha = 0.1) \n",
    "# plot_mag(phase_rescaled7, flux_list7, frequency7, alpha = 0.1) \n",
    "\n",
    "\n",
    "### Code for just plotting a part of data 2\n",
    "\n",
    "min_flux = 500\n",
    "max_flux = 650\n",
    "plot_mag(phase_rescaled1, flux_list1, frequency1, alpha = 0.5, vmin = -0.0005, vmax = 0.0005)\n",
    "plot_mag(phase_rescaled2[min_flux:max_flux], flux_list2[min_flux:max_flux], frequency2, alpha = 0.1)\n",
    "# plot_mag(phase_rescaled3, flux_list3, frequency3, alpha = 0.1)  # bit of vertical axis zoom\n",
    "\n",
    "# plt.imshow(mag.T, aspect='auto', origin='lower',\n",
    "#            extent=[flux_list.min(), flux_list.max(), frequency.min(), frequency.max()], rasterized=True,  vmin=0, vmax = 0.02)\n",
    "\n",
    "stop = time.time()\n",
    "\n",
    "print(stop-start)\n",
    "\n",
    "\n",
    "cbar = plt.colorbar()\n",
    "cbar.set_label(\"Magnitude (a.u)\")\n",
    "# plt.xlim(-0.125, 0.041358)\n",
    "plt.xlabel('Voltage (V)')\n",
    "plt.ylabel('Frequency (Hz)')\n",
    "plt.title(r\"$R=\\sqrt{I^2 + Q^2}$ (normalized_Averaged)\")\n",
    "plt.tight_layout()\n",
    "# plt.savefig('1500JJ1.jpg', dpi = 1000)\n",
    "\n",
    "plt.show()"
   ]
  },
  {
   "cell_type": "markdown",
   "id": "787ddb7a-a898-4386-a969-cf2a5467d969",
   "metadata": {},
   "source": [
    "## Phase"
   ]
  },
  {
   "cell_type": "code",
   "execution_count": 10,
   "id": "1d020e9c-2158-4f95-86fb-9c6c1727fc29",
   "metadata": {},
   "outputs": [],
   "source": [
    "# plt.close()\n",
    "# plt.figure\n",
    "\n",
    "# rescale=True\n",
    "\n",
    "# if rescale:\n",
    "#     mag_rescaled = np.array([m-np.mean(m) for m in mag])\n",
    "# else:\n",
    "#     mag_rescaled = mag\n",
    "    \n",
    "# if rescale:\n",
    "#     phase_rescaled = np.array([m-np.mean(m) for m in phase])\n",
    "# else:\n",
    "#     phase_rescaled = phase\n",
    "    \n",
    "    \n",
    "\n",
    "# # plt.pcolormesh(current, freq, mag_rescaled.T, vmin=-0.5e-3, vmax = 0.4e-3)\n",
    "# plt.pcolormesh(flux_list, frequency, mag_rescaled.T, rasterized=True)\n",
    "\n",
    "# cbar = plt.colorbar()\n",
    "# cbar.set_label(\"Magnitude (a.u)\")\n",
    "# plt.xlabel('Voltage (V)')\n",
    "# plt.ylabel('Frequency (Hz)')\n",
    "# plt.title(r\"$R=\\sqrt{I^2 + Q^2}$ (normalized_Averaged)\")\n",
    "# plt.tight_layout()\n",
    "\n",
    "# plt.show()"
   ]
  },
  {
   "cell_type": "markdown",
   "id": "9824bfa8-c539-4140-ba33-9bb7fdb07b11",
   "metadata": {},
   "source": [
    "# Guess parameters by hand"
   ]
  },
  {
   "cell_type": "code",
   "execution_count": 66,
   "id": "92569c8f-b1c2-4bfe-b1be-b5f9d5f86d38",
   "metadata": {
    "tags": []
   },
   "outputs": [],
   "source": [
    "# start_thoery = time.time()\n",
    "\n",
    "# plt.close()\n",
    "# fig = plt.figure(num = 1) # main dataset\n",
    "\n",
    "# p0 = {'Ej':6.86e9,'Ec':0.98e9, 'El':0.066e9, 'Amp_per_phi0':0.142895, 'current_integer_flux':0.027152,'g':1.98e9}   # for 1 mode\n",
    "\n",
    "p0 = {'Ej':7.26e9,'Ec':0.97e9, 'El':0.066e9, 'g':1.98e9}   # for 1 mode\n",
    "\n",
    "for i in range (10):\n",
    "    remove_lines(fig)\n",
    "\n",
    "    \n",
    "# plot_theory_lines(fig, p0, flux_values=np.linspace(-1.1, 1.1, 100), transitions=[\"04\",\"15\",\"05\"])  \n",
    "# plot_theory_lines(fig, p0, flux_values=np.linspace(-1.1, 1.1, 100), transitions=[\"04\",\"15\",\"14\",\"03\"])  \n",
    "\n",
    "# plot_theory_energies(fig, p0, flux_values=np.linspace(-1.1, 1.1, 500), transitions=[\"1\",\"2\",\"3\",\"4\",\"5\",\"6\"])\n",
    "\n",
    "# plot_theory_lines(fig, p0, flux_values=np.linspace(-1.1, 1.1, 500), transitions=[\"03\",\"05\",\"13\"])\n",
    "\n",
    "\n",
    "\n",
    "# plot_theory_lines(fig, p0, flux_values=np.linspace(-1.1, 0.1, 500), transitions=[\"15\",\"05\",\"04\",\"03\",\"14\",\"13\"])\n",
    "\n",
    "# plot_theory_lines(fig, p0, flux_values=np.linspace(-0.54, -0.4356, 100), transitions=[\"15\",\"05\",\"04\",\"03\",\"14\",\"13\"])\n",
    "\n",
    "# plot_theory_lines(fig, p0, flux_values=np.linspace(-1.1, 1.1, 1000), transitions=[\"05\",\"04\",\"03\"])\n",
    "plot_theory_lines(fig, p0, flux_values=np.linspace(-1.1, 1.1, 500), transitions=[\"01\",\"02\",\"03\",\"04\",\"05\",\"06\",\"07\",\"08\",\"09\",\"12\",\"13\",\"14\",\"15\",\"16\",\"17\",\"18\",\"19\",\"23\",\"24\",\"25\",\"26\",\"27\",\"28\",\"29\",\"34\",\"35\",\"36\",\"37\",\"38\",\"39\",\"45\",\"46\",\"47\",\"48\",\"49\",\"56\",\"57\",\"58\",\"59\",\"67\",\"68\",\"69\",\"78\",\"79\",\"89\"])\n",
    "\n",
    "# stop_theory = time.time()\n",
    "# print(stop_theory-start_thoery)"
   ]
  },
  {
   "cell_type": "code",
   "execution_count": 12,
   "id": "d2b2b6a8-ae67-43e9-b447-0544ac8619c6",
   "metadata": {},
   "outputs": [
    {
     "name": "stdout",
     "output_type": "stream",
     "text": [
      "-0.540579756797174 -0.43561220226827885\n"
     ]
    }
   ],
   "source": [
    "print(current_to_phiext(-0.05, parameters = []), current_to_phiext(-0.035, parameters = []))"
   ]
  },
  {
   "cell_type": "code",
   "execution_count": 30,
   "id": "1ebaf537-809b-463f-89b5-6d2b9c08ad8f",
   "metadata": {},
   "outputs": [],
   "source": [
    "# plot_theory_lines(fig, p0, flux_values=np.linspace(-1.1, 1.1, 500), transitions=[\"01\",\"02\",\"03\",\"04\",\"05\",\"06\",\"12\",\"13\",\"14\",\"15\",\"16\",\"23\",\"24\",\"25\",\"26\",\"34\",\"35\",\"45\",\"46\"])"
   ]
  },
  {
   "cell_type": "code",
   "execution_count": 194,
   "id": "5db8de5a-de10-4472-90c9-d58bb1aac876",
   "metadata": {
    "tags": []
   },
   "outputs": [],
   "source": [
    "for i in range(6):\n",
    "    remove_lines(fig)"
   ]
  },
  {
   "cell_type": "markdown",
   "id": "9e3efcb2-0488-4960-b9f1-625d2c27ef79",
   "metadata": {},
   "source": [
    "# Fitting the spectrum"
   ]
  },
  {
   "cell_type": "code",
   "execution_count": 24,
   "id": "a91f099f-0531-4ab1-8b69-fcc8744ecb37",
   "metadata": {
    "tags": []
   },
   "outputs": [],
   "source": [
    "### The formatting of the extracted data is as follows\n",
    "\n",
    "# { current_value :\n",
    "#     {\n",
    "#        'transition_number1':frequency1,\n",
    "#        'transition_number2':frequency2,\n",
    "#           ....\n",
    "\n",
    "\n",
    "\n",
    "\n",
    "\n",
    "extracted_points = {\n",
    "\n",
    "                0.026434:{\n",
    "                '01':1.2814e9,\n",
    "                '02':1.3062e9,\n",
    "            },\n",
    "                0.025413:{\n",
    "                '01':1.2634e9,\n",
    "                '02':1.3262e9,\n",
    "                },\n",
    "                0.027931:{\n",
    "                '01':1.2803e9,\n",
    "                '02':1.3051e9,\n",
    "            },\n",
    "                0.028913:{\n",
    "                '01':1.2627e9,\n",
    "                '02':1.3250e9,\n",
    "\n",
    "            },\n",
    "                -0.117554:{\n",
    "                '01':1.2612e9,\n",
    "                '02':1.3271e9,\n",
    "\n",
    "            },\n",
    "                -0.114164:{\n",
    "                '01':1.2646e9,\n",
    "                '02':1.3241e9,\n",
    "\n",
    "            },\n",
    "    \n",
    "               0.02149:{\n",
    "                '01':1.192e9,\n",
    "                '02':1.398e9,\n",
    "\n",
    "            },\n",
    "                0.033:{\n",
    "                '01':1.189e9,\n",
    "                '02':1.396e9,\n",
    "\n",
    "            },\n",
    "\n",
    "\n",
    "\n",
    "                -0.045520:{\n",
    "                '05':3.0303e9,\n",
    "                '15':3.0062e9,\n",
    "                '04':2.9844e9,\n",
    "                '14':2.9605e9,\n",
    "                },\n",
    "\n",
    "                -0.042593:{\n",
    "                '05':3.0338e9,\n",
    "                '15':3.0050e9,\n",
    "                '04':2.9858e9,\n",
    "                '14':2.9566e9,\n",
    "\n",
    "\n",
    "            },\n",
    "\n",
    "             -0.04466:{\n",
    "                '05':3.0191e9,\n",
    "                '15':3.0107e9,\n",
    "                '04':2.9793e9,\n",
    "                '14':2.9711e9,\n",
    "\n",
    "            },\n",
    "                -0.04371:{\n",
    "                '05':3.0193e9,\n",
    "                '15':3.0105e9,\n",
    "                '04':2.9799e9,\n",
    "                '14':2.9705e9,\n",
    "\n",
    "\n",
    "            },\n",
    "\n",
    "\n",
    "\n",
    "                    -0.044409:{\n",
    "                '05':3.0168e9,\n",
    "                '15':3.0130e9,\n",
    "                '04':2.9779e9,\n",
    "                '14':2.9731e9,\n",
    "\n",
    "\n",
    "            },\n",
    "    \n",
    "                    -0.044202:{\n",
    "                '05':3.0144e9,\n",
    "                '15':3.0144e9,\n",
    "                '04':2.9760e9,\n",
    "                '14':2.9760e9,\n",
    "\n",
    "\n",
    "            },\n",
    "\n",
    "                    -0.043945:{\n",
    "                '05':3.0173e9,\n",
    "                '15':3.0121e9,\n",
    "                '04':2.9778e9,\n",
    "                '14':2.9731e9,\n",
    "\n",
    "\n",
    "            },\n",
    "\n",
    "                    -0.043007:{\n",
    "                '05':3.0281e9,\n",
    "                '15':3.0067e9,\n",
    "                '04':2.9837e9,\n",
    "                '14':2.9615e9,\n",
    "\n",
    "\n",
    "            },\n",
    "\n",
    "                        -0.046336:{\n",
    "                '05':3.047e9,\n",
    "                '14':2.9457e9,\n",
    "                        \n",
    "                        },\n",
    "\n",
    "                           -0.048037:{\n",
    "                '05':3.0716e9,\n",
    "                '14':2.9211e9,\n",
    "                        \n",
    "                        },\n",
    "\n",
    "                           -0.041343:{\n",
    "                '05':3.0557e9,\n",
    "                '14':2.9393e9,\n",
    "                        \n",
    "                        },\n",
    "\n",
    "                           -0.039936:{\n",
    "                '05':3.081e9,\n",
    "                '14':2.917e9,\n",
    "                        \n",
    "                        },\n",
    "\n",
    "\n",
    "\n",
    "\n",
    "    \n",
    "\n",
    "\n",
    "                      0.02603:{\n",
    "                '03':2.99619e9,\n",
    "                      },\n",
    "                      # -0.045586:{\n",
    "                # '03':2.5999e9,\n",
    "                #       },\n",
    "                #      -0.042369:{\n",
    "                # '03':2.6072e9,\n",
    "                #       },\n",
    "\n",
    "\n",
    "}"
   ]
  },
  {
   "cell_type": "code",
   "execution_count": 51,
   "id": "f33827a7-b6f6-4b59-9600-b28271aae12d",
   "metadata": {},
   "outputs": [],
   "source": [
    "extracted_points = {\n",
    "    -0.042593:{\n",
    "                '05':3.0338e9,\n",
    "                '15':3.0050e9,\n",
    "                '04':2.9858e9,\n",
    "                '14':2.9566e9,\n",
    "            },\n",
    "        \n",
    "    -0.044202:{\n",
    "                '05':3.0144e9,\n",
    "                '15':3.0144e9,\n",
    "                '04':2.9760e9,\n",
    "                '14':2.9760e9,\n",
    "\n",
    "\n",
    "            },\n",
    "}"
   ]
  },
  {
   "cell_type": "code",
   "execution_count": 52,
   "id": "f7819f1b-8caa-4c5b-aea3-9eff377be45c",
   "metadata": {},
   "outputs": [],
   "source": [
    "# list_flux_values = np.array(list(extracted_points.keys()))\n",
    "# relevant_flux = [f for f, boolean in zip(list_flux_values, [-0.035>f>-0.05 for f in list_flux_values]) if boolean==True]"
   ]
  },
  {
   "cell_type": "code",
   "execution_count": 53,
   "id": "862b1971-9370-4de3-a42b-030ece4a68fd",
   "metadata": {},
   "outputs": [],
   "source": [
    "plot_extracted_points(figure=fig, extracted_points=extracted_points)"
   ]
  },
  {
   "cell_type": "code",
   "execution_count": 54,
   "id": "d1157802-7cd8-413b-b714-65d00e79b316",
   "metadata": {
    "tags": []
   },
   "outputs": [],
   "source": [
    "# Parameters to fit. Fir instance, the current to flux conversion can be measured from the symmetry points and not adjusted during the fitting procedure\n",
    "# fitting_parameter = ['Ej', 'Ec', 'El', 'Amp_per_phi0', 'current_integer_flux', 'g']\n",
    "fitting_parameter = ['Ej', 'Ec', 'El', 'g']\n",
    "\n",
    "# Guess values\n",
    "# p0 = {'Ej':8e9, 'Ec':1.0e9, 'El':0.066e9, 'Amp_per_phi0':224e-3, 'current_integer_flux':-0.0450,'g':70.0e6}\n",
    "# p0 = {'Ej':6.86e9,'Ec':0.98e9, 'El':0.066e9, 'Amp_per_phi0':0.142759, 'current_integer_flux':0.02713425385769135,'g':1.97e9}   # for 1 mode\n",
    "\n",
    "Amp_per_phi0 = 0.1429013 \n",
    "current_integer_flux = 0.02724955\n",
    "\n",
    "p0 = {'Ej':6.86e9,'Ec':0.98e9, 'El':0.066e9, 'g':1.97e9}   # for 1 mode"
   ]
  },
  {
   "cell_type": "code",
   "execution_count": 55,
   "id": "9e4b422d-277e-4bf6-bdbc-b66ab5dbe2fc",
   "metadata": {
    "tags": []
   },
   "outputs": [
    {
     "data": {
      "text/plain": [
       "dict_keys(['Ej', 'Ec', 'El', 'g'])"
      ]
     },
     "execution_count": 55,
     "metadata": {},
     "output_type": "execute_result"
    }
   ],
   "source": [
    "p0.keys()"
   ]
  },
  {
   "cell_type": "code",
   "execution_count": 56,
   "id": "7775db90-d8b6-4b59-ac1f-e45d32a709a1",
   "metadata": {
    "tags": []
   },
   "outputs": [],
   "source": [
    "start_time_theory = time.time()\n",
    "def function_to_minimize(parameters_list):\n",
    "    unrescaled_parameters = unrescale_parameter_array(parameters_list)\n",
    "    parameters = from_parameter_array_to_parameter_dict(unrescaled_parameters)\n",
    "    return cost_function(parameters=parameters, extracted_points=extracted_points, model=model, cost_type='absolute', cutoff=70)\n",
    "minimization = minimize(function_to_minimize, x0 = rescale_parameter_array(list(p0.values())), method='Nelder-Mead')\n",
    "# minimization = minimize(function_to_minimize, x0 = rescale_parameter_array(list(p0.values())), method='L-BFGS-B')\n",
    "\n",
    "stop_time_theory = time.time()"
   ]
  },
  {
   "cell_type": "code",
   "execution_count": 57,
   "id": "15182d89-94fb-4dd5-b399-c87d2195aef8",
   "metadata": {
    "tags": []
   },
   "outputs": [],
   "source": [
    "for i in range(10):\n",
    "    remove_lines(fig)"
   ]
  },
  {
   "cell_type": "code",
   "execution_count": 58,
   "id": "d1110915-def9-4e89-ac68-f8794ad0d1a3",
   "metadata": {},
   "outputs": [],
   "source": [
    "for i in range(10):\n",
    "    remove_label_lines(fig)"
   ]
  },
  {
   "cell_type": "code",
   "execution_count": 60,
   "id": "00273495-26e5-4146-8d6d-e8a1401262f6",
   "metadata": {
    "tags": []
   },
   "outputs": [
    {
     "name": "stderr",
     "output_type": "stream",
     "text": [
      "UserWarning: Tried to label line Line2D(_child1), but could not find a label for it.\n",
      " C:\\Users\\nicolas.roch\\AppData\\Local\\anaconda3\\envs\\spectra_fit\\Lib\\site-packages\\labellines\\core.py: 151UserWarning: Tried to label line Line2D(_child6), but could not find a label for it.\n",
      " C:\\Users\\nicolas.roch\\AppData\\Local\\anaconda3\\envs\\spectra_fit\\Lib\\site-packages\\labellines\\core.py: 151UserWarning: Tried to label line Line2D(_child7), but could not find a label for it.\n",
      " C:\\Users\\nicolas.roch\\AppData\\Local\\anaconda3\\envs\\spectra_fit\\Lib\\site-packages\\labellines\\core.py: 151UserWarning: Tried to label line Line2D(_child8), but could not find a label for it.\n",
      " C:\\Users\\nicolas.roch\\AppData\\Local\\anaconda3\\envs\\spectra_fit\\Lib\\site-packages\\labellines\\core.py: 151UserWarning: Tried to label line Line2D(_child9), but could not find a label for it.\n",
      " C:\\Users\\nicolas.roch\\AppData\\Local\\anaconda3\\envs\\spectra_fit\\Lib\\site-packages\\labellines\\core.py: 151"
     ]
    },
    {
     "data": {
      "text/plain": [
       "1"
      ]
     },
     "execution_count": 60,
     "metadata": {},
     "output_type": "execute_result"
    }
   ],
   "source": [
    "plot_extracted_points(fig, extracted_points)\n",
    "# plot_theory_lines(fig, from_parameter_array_to_parameter_dict(unrescale_parameter_array(minimization.x)), flux_values=np.linspace(-1.5, 1.5, 300), transitions=[\"01\",\"02\",\"03\",\"12\",\"13\",\"23\", ])\n",
    "# plot_theory_lines(fig, from_parameter_array_to_parameter_dict(unrescale_parameter_array(minimization.x)), flux_values=np.linspace(-1.1, 1.1, 1000), transitions=[\"15\",\"05\",\"04\",\"03\",\"14\",\"13\",\"01\",\"02\"])\n",
    "\n",
    "plot_theory_lines(fig, from_parameter_array_to_parameter_dict(unrescale_parameter_array(minimization.x)), flux_values=np.linspace(-0.54, -0.4356, 100), transitions=[\"15\",\"05\",\"04\",\"03\",\"14\",\"13\",\"01\",\"02\"])\n",
    "1\n",
    "\n",
    "\n",
    "# plot_theory_lines(fig, from_parameter_array_to_parameter_dict(unrescale_parameter_array(minimization.x)), flux_values=np.linspace(-1.5, 1.5, 1000), transitions=[\"01\",\"02\",\"03\",\"04\",\"05\",\"06\",\"12\",\"13\",\"14\",\"15\",\"16\",\"23\",\"24\",\"25\",\"26\",\"34\",\"35\",\"36\",\"45\",\"46\", ])\n",
    "# plot_theory_lines(fig, from_parameter_array_to_parameter_dict(unrescale_parameter_array(minimization.x)), flux_values=np.linspace(-1.1, 1.1, 500), transitions=[\"01\",\"03\",\"12\",\"13\",\"23\",\"34\",\"45\",\"02\",\"04\",\"05\",\"06\",\"14\", ])\n",
    "# plot_theory_lines(fig, from_parameter_array_to_parameter_dict(unrescale_parameter_array(minimization.x)), flux_values=np.linspace(-1.1, 1.1, 50000), transitions=[\"01\",\"02\",\"03\",\"04\",\"05\",\"06\",\"07\",\"08\",\"09\",\"12\",\"13\",\"14\",\"15\",\"16\",\"17\",\"18\",\"19\",\"23\",\"24\",\"25\",\"26\",\"27\",\"28\",\"29\",\"34\",\"35\",\"36\",\"37\",\"38\",\"39\",\"45\",\"46\",\"47\",\"48\",\"49\",\"56\",\"57\",\"58\",\"59\",\"67\",\"68\",\"69\",\"78\",\"79\",\"89\"])"
   ]
  },
  {
   "cell_type": "code",
   "execution_count": 61,
   "id": "4b36a2d7-e85c-413b-bca5-4e05bde09c09",
   "metadata": {
    "tags": []
   },
   "outputs": [
    {
     "name": "stdout",
     "output_type": "stream",
     "text": [
      "[7.26059936 0.97405286 0.06443157 1.98987553]\n"
     ]
    }
   ],
   "source": [
    "print(minimization.x)"
   ]
  },
  {
   "cell_type": "code",
   "execution_count": 62,
   "id": "b88d61f9-9592-4d44-89e1-2a8b9bd142ab",
   "metadata": {
    "tags": []
   },
   "outputs": [
    {
     "data": {
      "text/plain": [
       "{'Ej': 7260599360.217642,\n",
       " 'Ec': 974052858.4512627,\n",
       " 'El': 64431565.48134168,\n",
       " 'g': 1989875530.9389215}"
      ]
     },
     "execution_count": 62,
     "metadata": {},
     "output_type": "execute_result"
    }
   ],
   "source": [
    "from_parameter_array_to_parameter_dict(unrescale_parameter_array(minimization.x))"
   ]
  },
  {
   "cell_type": "markdown",
   "id": "c0ed6c71-95a3-4c66-8e82-7c3a40462ee4",
   "metadata": {
    "jp-MarkdownHeadingCollapsed": true,
    "tags": []
   },
   "source": [
    "# Legacy things"
   ]
  },
  {
   "cell_type": "code",
   "execution_count": null,
   "id": "0e84d0f8-8505-4716-a1bf-8c94f45c35e9",
   "metadata": {},
   "outputs": [],
   "source": [
    "current_integer_flux = 2.13e-6\n",
    "current_half_flux = -25.584e-6\n",
    "\n",
    "Amp_per_phi0 = abs(2*(current_half_flux-current_integer_flux))"
   ]
  },
  {
   "cell_type": "code",
   "execution_count": 613,
   "id": "809394c9-64b7-4066-afaa-4be4ce442008",
   "metadata": {
    "tags": []
   },
   "outputs": [
    {
     "data": {
      "text/plain": [
       "dict_keys(['instruments', 'parameters', 'components', 'config'])"
      ]
     },
     "execution_count": 613,
     "metadata": {},
     "output_type": "execute_result"
    }
   ],
   "source": [
    "dataset.snapshot['station'].keys()"
   ]
  },
  {
   "cell_type": "code",
   "execution_count": 582,
   "id": "be26cffb-42c0-4b88-b3d5-f1517008f314",
   "metadata": {
    "tags": []
   },
   "outputs": [
    {
     "data": {
      "text/plain": [
       "(594000,)"
      ]
     },
     "execution_count": 582,
     "metadata": {},
     "output_type": "execute_result"
    }
   ],
   "source": [
    "mag.shape"
   ]
  },
  {
   "cell_type": "code",
   "execution_count": 583,
   "id": "b3ac7120-5fa0-457b-b61b-995f902d654d",
   "metadata": {
    "tags": []
   },
   "outputs": [
    {
     "data": {
      "text/plain": [
       "(594000,)"
      ]
     },
     "execution_count": 583,
     "metadata": {},
     "output_type": "execute_result"
    }
   ],
   "source": [
    "mag.shape"
   ]
  },
  {
   "cell_type": "code",
   "execution_count": 608,
   "id": "f207880e-416a-48da-a098-ec1726945a39",
   "metadata": {
    "tags": []
   },
   "outputs": [
    {
     "data": {
      "text/plain": [
       "400.0"
      ]
     },
     "execution_count": 608,
     "metadata": {},
     "output_type": "execute_result"
    }
   ],
   "source": [
    "len(current)/(len(frequency)*3)"
   ]
  },
  {
   "cell_type": "code",
   "execution_count": 603,
   "id": "95d0767a-aa16-4dd1-be3b-042f906a67fd",
   "metadata": {
    "tags": []
   },
   "outputs": [],
   "source": [
    "current_vec = 6.56763e-06 + phi0 * np.linspace(-0.5, 0.5, 200)   # Sweet spot found by VNA vs current"
   ]
  },
  {
   "cell_type": "code",
   "execution_count": null,
   "id": "9a72cb0e-0024-4376-9dbf-f8c256b2c243",
   "metadata": {},
   "outputs": [
    {
     "data": {
      "text/plain": [
       "array([-2.81323700e-05, -2.77836263e-05, -2.74348826e-05, -2.70861388e-05,\n",
       "       -2.67373951e-05, -2.63886514e-05, -2.60399077e-05, -2.56911640e-05,\n",
       "       -2.53424203e-05, -2.49936765e-05, -2.46449328e-05, -2.42961891e-05,\n",
       "       -2.39474454e-05, -2.35987017e-05, -2.32499579e-05, -2.29012142e-05,\n",
       "       -2.25524705e-05, -2.22037268e-05, -2.18549831e-05, -2.15062393e-05,\n",
       "       -2.11574956e-05, -2.08087519e-05, -2.04600082e-05, -2.01112645e-05,\n",
       "       -1.97625208e-05, -1.94137770e-05, -1.90650333e-05, -1.87162896e-05,\n",
       "       -1.83675459e-05, -1.80188022e-05, -1.76700584e-05, -1.73213147e-05,\n",
       "       -1.69725710e-05, -1.66238273e-05, -1.62750836e-05, -1.59263398e-05,\n",
       "       -1.55775961e-05, -1.52288524e-05, -1.48801087e-05, -1.45313650e-05,\n",
       "       -1.41826213e-05, -1.38338775e-05, -1.34851338e-05, -1.31363901e-05,\n",
       "       -1.27876464e-05, -1.24389027e-05, -1.20901589e-05, -1.17414152e-05,\n",
       "       -1.13926715e-05, -1.10439278e-05, -1.06951841e-05, -1.03464404e-05,\n",
       "       -9.99769663e-06, -9.64895291e-06, -9.30020920e-06, -8.95146548e-06,\n",
       "       -8.60272176e-06, -8.25397804e-06, -7.90523432e-06, -7.55649060e-06,\n",
       "       -7.20774688e-06, -6.85900317e-06, -6.51025945e-06, -6.16151573e-06,\n",
       "       -5.81277201e-06, -5.46402829e-06, -5.11528457e-06, -4.76654085e-06,\n",
       "       -4.41779714e-06, -4.06905342e-06, -3.72030970e-06, -3.37156598e-06,\n",
       "       -3.02282226e-06, -2.67407854e-06, -2.32533482e-06, -1.97659111e-06,\n",
       "       -1.62784739e-06, -1.27910367e-06, -9.30359950e-07, -5.81616231e-07,\n",
       "       -2.32872513e-07,  1.15871206e-07,  4.64614925e-07,  8.13358643e-07,\n",
       "        1.16210236e-06,  1.51084608e-06,  1.85958980e-06,  2.20833352e-06,\n",
       "        2.55707724e-06,  2.90582095e-06,  3.25456467e-06,  3.60330839e-06,\n",
       "        3.95205211e-06,  4.30079583e-06,  4.64953955e-06,  4.99828327e-06,\n",
       "        5.34702698e-06,  5.69577070e-06,  6.04451442e-06,  6.39325814e-06,\n",
       "        6.74200186e-06,  7.09074558e-06,  7.43948930e-06,  7.78823302e-06,\n",
       "        8.13697673e-06,  8.48572045e-06,  8.83446417e-06,  9.18320789e-06,\n",
       "        9.53195161e-06,  9.88069533e-06,  1.02294390e-05,  1.05781828e-05,\n",
       "        1.09269265e-05,  1.12756702e-05,  1.16244139e-05,  1.19731576e-05,\n",
       "        1.23219014e-05,  1.26706451e-05,  1.30193888e-05,  1.33681325e-05,\n",
       "        1.37168762e-05,  1.40656199e-05,  1.44143637e-05,  1.47631074e-05,\n",
       "        1.51118511e-05,  1.54605948e-05,  1.58093385e-05,  1.61580823e-05,\n",
       "        1.65068260e-05,  1.68555697e-05,  1.72043134e-05,  1.75530571e-05,\n",
       "        1.79018009e-05,  1.82505446e-05,  1.85992883e-05,  1.89480320e-05,\n",
       "        1.92967757e-05,  1.96455194e-05,  1.99942632e-05,  2.03430069e-05,\n",
       "        2.06917506e-05,  2.10404943e-05,  2.13892380e-05,  2.17379818e-05,\n",
       "        2.20867255e-05,  2.24354692e-05,  2.27842129e-05,  2.31329566e-05,\n",
       "        2.34817004e-05,  2.38304441e-05,  2.41791878e-05,  2.45279315e-05,\n",
       "        2.48766752e-05,  2.52254189e-05,  2.55741627e-05,  2.59229064e-05,\n",
       "        2.62716501e-05,  2.66203938e-05,  2.69691375e-05,  2.73178813e-05,\n",
       "        2.76666250e-05,  2.80153687e-05,  2.83641124e-05,  2.87128561e-05,\n",
       "        2.90615998e-05,  2.94103436e-05,  2.97590873e-05,  3.01078310e-05,\n",
       "        3.04565747e-05,  3.08053184e-05,  3.11540622e-05,  3.15028059e-05,\n",
       "        3.18515496e-05,  3.22002933e-05,  3.25490370e-05,  3.28977808e-05,\n",
       "        3.32465245e-05,  3.35952682e-05,  3.39440119e-05,  3.42927556e-05,\n",
       "        3.46414993e-05,  3.49902431e-05,  3.53389868e-05,  3.56877305e-05,\n",
       "        3.60364742e-05,  3.63852179e-05,  3.67339617e-05,  3.70827054e-05,\n",
       "        3.74314491e-05,  3.77801928e-05,  3.81289365e-05,  3.84776803e-05,\n",
       "        3.88264240e-05,  3.91751677e-05,  3.95239114e-05,  3.98726551e-05,\n",
       "        4.02213988e-05,  4.05701426e-05,  4.09188863e-05,  4.12676300e-05])"
      ]
     },
     "execution_count": 604,
     "metadata": {},
     "output_type": "execute_result"
    }
   ],
   "source": [
    "current_vec"
   ]
  },
  {
   "cell_type": "code",
   "execution_count": 602,
   "id": "4e93af70-ee7f-4f52-9ca5-e0da38e3c9e9",
   "metadata": {
    "tags": []
   },
   "outputs": [
    {
     "data": {
      "text/plain": [
       "array([-2.8e-05, -2.7e-05, -2.6e-05, -2.5e-05, -2.4e-05, -2.3e-05,\n",
       "       -2.2e-05, -2.1e-05, -2.0e-05, -1.9e-05, -1.8e-05, -1.7e-05,\n",
       "       -1.6e-05, -1.5e-05, -1.4e-05, -1.3e-05, -1.2e-05, -1.1e-05,\n",
       "       -1.0e-05, -9.0e-06, -8.0e-06, -7.0e-06, -6.0e-06, -5.0e-06,\n",
       "       -4.0e-06, -3.0e-06, -2.0e-06, -1.0e-06,  0.0e+00,  1.0e-06,\n",
       "        2.0e-06,  3.0e-06,  4.0e-06,  5.0e-06,  6.0e-06,  7.0e-06,\n",
       "        8.0e-06,  9.0e-06,  1.0e-05,  1.1e-05,  1.2e-05,  1.3e-05,\n",
       "        1.4e-05,  1.5e-05,  1.6e-05,  1.7e-05,  1.8e-05,  1.9e-05,\n",
       "        2.0e-05,  2.1e-05,  2.2e-05,  2.3e-05,  2.4e-05,  2.5e-05,\n",
       "        2.6e-05,  2.7e-05,  2.8e-05,  2.9e-05,  3.0e-05,  3.1e-05,\n",
       "        3.2e-05,  3.3e-05,  3.4e-05,  3.5e-05,  3.6e-05,  3.7e-05,\n",
       "        3.8e-05,  3.9e-05,  4.0e-05,  4.1e-05])"
      ]
     },
     "execution_count": 602,
     "metadata": {},
     "output_type": "execute_result"
    }
   ],
   "source": [
    "np.unique(current)"
   ]
  },
  {
   "cell_type": "code",
   "execution_count": 590,
   "id": "b0192032-4cb6-4639-abc9-a9e622da20d9",
   "metadata": {
    "tags": []
   },
   "outputs": [
    {
     "data": {
      "application/vnd.jupyter.widget-view+json": {
       "model_id": "b1e750d599bd4e849b99cbf60a0c0c90",
       "version_major": 2,
       "version_minor": 0
      },
      "image/png": "[encoded data removed]",
      "text/html": [
       "\n",
       "            <div style=\"display: inline-block;\">\n",
       "                <div class=\"jupyter-widgets widget-label\" style=\"text-align: center;\">\n",
       "                    Figure\n",
       "                </div>\n",
       "                <img src='data:image/png;base64,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' width=640.0/>\n",
       "            </div>\n",
       "        "
      ],
      "text/plain": [
       "Canvas(toolbar=Toolbar(toolitems=[('Home', 'Reset original view', 'home', 'home'), ('Back', 'Back to previous …"
      ]
     },
     "metadata": {},
     "output_type": "display_data"
    }
   ],
   "source": [
    "plt.close()\n",
    "plt.plot(frequency)\n",
    "plt.show()"
   ]
  },
  {
   "cell_type": "code",
   "execution_count": 585,
   "id": "10110aa9-5007-42a9-b99b-0598c5980f19",
   "metadata": {
    "tags": []
   },
   "outputs": [
    {
     "data": {
      "text/plain": [
       "(70,)"
      ]
     },
     "execution_count": 585,
     "metadata": {},
     "output_type": "execute_result"
    }
   ],
   "source": [
    "current.shape"
   ]
  },
  {
   "cell_type": "code",
   "execution_count": 589,
   "id": "131ece63-0549-4081-88dc-289e058eaf00",
   "metadata": {
    "tags": []
   },
   "outputs": [
    {
     "data": {
      "text/plain": [
       "207900"
      ]
     },
     "execution_count": 589,
     "metadata": {},
     "output_type": "execute_result"
    }
   ],
   "source": [
    "70*990*3"
   ]
  },
  {
   "cell_type": "code",
   "execution_count": null,
   "id": "19f7bc28-a23b-4aaf-9f15-768702f45d69",
   "metadata": {},
   "outputs": [],
   "source": []
  },
  {
   "cell_type": "code",
   "execution_count": 580,
   "id": "73ab99de-e79c-4f0a-84bd-0e7e5bcd5a05",
   "metadata": {
    "tags": []
   },
   "outputs": [],
   "source": [
    "list_current = np.unique(current)"
   ]
  },
  {
   "cell_type": "code",
   "execution_count": null,
   "id": "6b300a00-966b-4911-97af-32d327dca684",
   "metadata": {},
   "outputs": [],
   "source": [
    "np.array(data.ZNL14_S21_magnitude).reshape(len(current_vec),len(freq_vec),3)"
   ]
  },
  {
   "cell_type": "code",
   "execution_count": null,
   "id": "a165253e-8932-4300-a6ff-680e65fe6967",
   "metadata": {},
   "outputs": [],
   "source": []
  }
 ],
 "metadata": {
  "kernelspec": {
   "display_name": "Python 3 (ipykernel)",
   "language": "python",
   "name": "python3"
  },
  "language_info": {
   "codemirror_mode": {
    "name": "ipython",
    "version": 3
   },
   "file_extension": ".py",
   "mimetype": "text/x-python",
   "name": "python",
   "nbconvert_exporter": "python",
   "pygments_lexer": "ipython3",
   "version": "3.11.7"
  },
  "toc-autonumbering": true,
  "toc-showcode": false
 },
 "nbformat": 4,
 "nbformat_minor": 5
}

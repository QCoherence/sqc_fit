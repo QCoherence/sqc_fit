{
 "cells": [
  {
   "cell_type": "markdown",
   "id": "4af871f2-7668-456b-957c-3e0dcaafdc8a",
   "metadata": {},
   "source": [
    "# Imports"
   ]
  },
  {
   "cell_type": "code",
   "execution_count": 1,
   "id": "5ae349dd-68b4-4f81-b362-19bda22fad6b",
   "metadata": {},
   "outputs": [],
   "source": [
    "import sys\n",
    "sys.path.append(r'C:\\software\\python\\sqc_fit')\n",
    "from importlib import reload\n",
    "import h5py"
   ]
  },
  {
   "cell_type": "markdown",
   "id": "4b9a2281-22c1-47e7-877e-523aa86660d7",
   "metadata": {},
   "source": [
    "# Loading or reloading cell for our package"
   ]
  },
  {
   "cell_type": "code",
   "execution_count": 2,
   "id": "f2a7af23-5f9c-41fa-ac65-fec25d3aa8e4",
   "metadata": {},
   "outputs": [],
   "source": [
    "try:\n",
    "    reload(fitting)\n",
    "except:\n",
    "    pass\n",
    "    \n",
    "from fitting import *"
   ]
  },
  {
   "cell_type": "code",
   "execution_count": 3,
   "id": "19ec9e1b-44c2-438a-83f3-993586cfce30",
   "metadata": {},
   "outputs": [],
   "source": [
    "%matplotlib qt"
   ]
  },
  {
   "cell_type": "code",
   "execution_count": 45,
   "id": "0cbdcc29-91e6-432e-9d39-c9a51aa6bdd1",
   "metadata": {},
   "outputs": [],
   "source": [
    "a = {'toto':1}"
   ]
  },
  {
   "cell_type": "code",
   "execution_count": 48,
   "id": "ead54e7b-05f4-4a49-b231-61efac6838df",
   "metadata": {},
   "outputs": [],
   "source": [
    "a.update({'tata':3})"
   ]
  },
  {
   "cell_type": "code",
   "execution_count": 50,
   "id": "5605d66e-c3fc-446b-84b1-772fb70fdf32",
   "metadata": {},
   "outputs": [
    {
     "data": {
      "text/plain": [
       "{'toto': 1, 'tata': 3}"
      ]
     },
     "execution_count": 50,
     "metadata": {},
     "output_type": "execute_result"
    }
   ],
   "source": [
    "a"
   ]
  },
  {
   "cell_type": "code",
   "execution_count": 51,
   "id": "1e28add0-317b-41f1-84b5-8751e7249715",
   "metadata": {},
   "outputs": [],
   "source": [
    "default_a = {'toto': 0, 'titi': 3}"
   ]
  },
  {
   "cell_type": "code",
   "execution_count": 53,
   "id": "5cb2fdd6-2f74-4a5c-8665-2b1d08f0c967",
   "metadata": {},
   "outputs": [
    {
     "name": "stdout",
     "output_type": "stream",
     "text": [
      "titi\n"
     ]
    }
   ],
   "source": [
    "for k in default_a.keys():\n",
    "    if k not in a.keys():\n",
    "        print(k)"
   ]
  },
  {
   "cell_type": "code",
   "execution_count": 54,
   "id": "36756e3a-5934-41f5-9e63-042a0a13488d",
   "metadata": {},
   "outputs": [
    {
     "data": {
      "text/plain": [
       "True"
      ]
     },
     "execution_count": 54,
     "metadata": {},
     "output_type": "execute_result"
    }
   ],
   "source": [
    "'titi' in default_a.keys()"
   ]
  },
  {
   "cell_type": "code",
   "execution_count": null,
   "id": "9a850ae7-f8d8-4242-9955-4979c13a7338",
   "metadata": {},
   "outputs": [],
   "source": []
  },
  {
   "cell_type": "code",
   "execution_count": null,
   "id": "8ffdf4a5-9499-470e-b91f-63dfe6f99f5f",
   "metadata": {},
   "outputs": [],
   "source": []
  },
  {
   "cell_type": "markdown",
   "id": "e572f58f-9882-4ce7-a34d-8f3a1fa6b71d",
   "metadata": {},
   "source": [
    "# Importing data"
   ]
  },
  {
   "cell_type": "code",
   "execution_count": 4,
   "id": "243fb552-b13d-4795-85eb-d23bdff404ed",
   "metadata": {},
   "outputs": [],
   "source": [
    "path = r'S:\\__Users\\Shelender\\2024_03_11__19_58_37__Two tones with ext. microwave src.h5'\n",
    "f = h5py.File(path)"
   ]
  },
  {
   "cell_type": "code",
   "execution_count": 5,
   "id": "d5d9af10-502f-4b14-ae98-a56711176bc9",
   "metadata": {},
   "outputs": [
    {
     "data": {
      "text/plain": [
       "<KeysViewHDF5 ['I', 'Q', 'acquisition_cell', 'analysis_cells', 'configs', 'flux', 'frequencies', 'info', 'n_avg', 'useful']>"
      ]
     },
     "execution_count": 5,
     "metadata": {},
     "output_type": "execute_result"
    }
   ],
   "source": [
    "f.keys()"
   ]
  },
  {
   "cell_type": "code",
   "execution_count": 6,
   "id": "f6365930-7f68-4735-80c7-3e3fa3ef4ebc",
   "metadata": {},
   "outputs": [],
   "source": [
    "flux = f.get('flux')[...]\n",
    "frequencies = f.get('frequencies')[...]\n",
    "I = f.get('I')[...].reshape(len(flux),-1)\n",
    "Q = f.get('Q')[...].reshape(len(flux),-1)"
   ]
  },
  {
   "cell_type": "code",
   "execution_count": 21,
   "id": "7ce66c19-ebd9-4e1a-8736-b5a5275ad0e2",
   "metadata": {},
   "outputs": [],
   "source": [
    "def rescale_data(data, rescale=True):\n",
    "    if rescale:\n",
    "        return np.array([m - np.mean(m) for m in data])\n",
    "    else:\n",
    "        return data"
   ]
  },
  {
   "cell_type": "code",
   "execution_count": 37,
   "id": "6fbdcbb8-33c1-4eba-a4dc-83cfa0257e29",
   "metadata": {},
   "outputs": [],
   "source": [
    "plt.close()\n",
    "fig = plt.figure(num = 1)\n",
    "\n",
    "vmin = 0.1 * np.min(rescale_data(Q))\n",
    "vmax = 0.6 * np.max(rescale_data(Q))\n",
    "\n",
    "plt.pcolormesh(flux, frequencies, rescale_data(Q).T, shading='auto', cmap='viridis', rasterized=True, vmin=vmin, vmax=vmax,)\n",
    "\n",
    "plt.show()"
   ]
  },
  {
   "cell_type": "markdown",
   "id": "920b5b7b-1466-4471-9fd8-8d31b5dc3094",
   "metadata": {},
   "source": [
    "# Sandbox"
   ]
  },
  {
   "cell_type": "code",
   "execution_count": null,
   "id": "5ca38545-f76d-450c-9254-d33cb205fb06",
   "metadata": {},
   "outputs": [],
   "source": []
  },
  {
   "cell_type": "code",
   "execution_count": null,
   "id": "fdb3b109-76ce-45fb-8d13-94ab39335d49",
   "metadata": {},
   "outputs": [],
   "source": []
  }
 ],
 "metadata": {
  "kernelspec": {
   "display_name": "Python 3 (ipykernel)",
   "language": "python",
   "name": "python3"
  },
  "language_info": {
   "codemirror_mode": {
    "name": "ipython",
    "version": 3
   },
   "file_extension": ".py",
   "mimetype": "text/x-python",
   "name": "python",
   "nbconvert_exporter": "python",
   "pygments_lexer": "ipython3",
   "version": "3.11.7"
  }
 },
 "nbformat": 4,
 "nbformat_minor": 5
}
